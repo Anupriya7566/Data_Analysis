{
 "cells": [
  {
   "cell_type": "markdown",
   "id": "305e5d1a-3c69-4c01-9be7-46cee6240a9d",
   "metadata": {},
   "source": [
    "# Key points about Inheritance\n",
    "- ##### object class(library class) is the default parent for all python classes.\n",
    "- ##### object class contains more than 20 memebrs and these are available to all python classes.\n",
    "- ##### in case of method ambiguity,MRO(Method Resolution Order) technique is used. "
   ]
  },
  {
   "cell_type": "code",
   "execution_count": 1,
   "id": "513a3736-7f22-4e5b-bb8f-2f8a3fed6777",
   "metadata": {},
   "outputs": [],
   "source": [
    "class A:  #by interpreter--->class A(object)\n",
    "    pass"
   ]
  },
  {
   "cell_type": "code",
   "execution_count": 2,
   "id": "c093e5ee-ae22-4ba7-8b7e-4df741a65d97",
   "metadata": {},
   "outputs": [
    {
     "name": "stdout",
     "output_type": "stream",
     "text": [
      "Help on class object in module builtins:\n",
      "\n",
      "class object\n",
      " |  The base class of the class hierarchy.\n",
      " |  \n",
      " |  When called, it accepts no arguments and returns a new featureless\n",
      " |  instance that has no instance attributes and cannot be given any.\n",
      " |  \n",
      " |  Built-in subclasses:\n",
      " |      anext_awaitable\n",
      " |      async_generator\n",
      " |      async_generator_asend\n",
      " |      async_generator_athrow\n",
      " |      ... and 93 other subclasses\n",
      " |  \n",
      " |  Methods defined here:\n",
      " |  \n",
      " |  __delattr__(self, name, /)\n",
      " |      Implement delattr(self, name).\n",
      " |  \n",
      " |  __dir__(self, /)\n",
      " |      Default dir() implementation.\n",
      " |  \n",
      " |  __eq__(self, value, /)\n",
      " |      Return self==value.\n",
      " |  \n",
      " |  __format__(self, format_spec, /)\n",
      " |      Default object formatter.\n",
      " |  \n",
      " |  __ge__(self, value, /)\n",
      " |      Return self>=value.\n",
      " |  \n",
      " |  __getattribute__(self, name, /)\n",
      " |      Return getattr(self, name).\n",
      " |  \n",
      " |  __getstate__(self, /)\n",
      " |      Helper for pickle.\n",
      " |  \n",
      " |  __gt__(self, value, /)\n",
      " |      Return self>value.\n",
      " |  \n",
      " |  __hash__(self, /)\n",
      " |      Return hash(self).\n",
      " |  \n",
      " |  __init__(self, /, *args, **kwargs)\n",
      " |      Initialize self.  See help(type(self)) for accurate signature.\n",
      " |  \n",
      " |  __le__(self, value, /)\n",
      " |      Return self<=value.\n",
      " |  \n",
      " |  __lt__(self, value, /)\n",
      " |      Return self<value.\n",
      " |  \n",
      " |  __ne__(self, value, /)\n",
      " |      Return self!=value.\n",
      " |  \n",
      " |  __reduce__(self, /)\n",
      " |      Helper for pickle.\n",
      " |  \n",
      " |  __reduce_ex__(self, protocol, /)\n",
      " |      Helper for pickle.\n",
      " |  \n",
      " |  __repr__(self, /)\n",
      " |      Return repr(self).\n",
      " |  \n",
      " |  __setattr__(self, name, value, /)\n",
      " |      Implement setattr(self, name, value).\n",
      " |  \n",
      " |  __sizeof__(self, /)\n",
      " |      Size of object in memory, in bytes.\n",
      " |  \n",
      " |  __str__(self, /)\n",
      " |      Return str(self).\n",
      " |  \n",
      " |  ----------------------------------------------------------------------\n",
      " |  Class methods defined here:\n",
      " |  \n",
      " |  __init_subclass__(...) from builtins.type\n",
      " |      This method is called when a class is subclassed.\n",
      " |      \n",
      " |      The default implementation does nothing. It may be\n",
      " |      overridden to extend subclasses.\n",
      " |  \n",
      " |  __subclasshook__(...) from builtins.type\n",
      " |      Abstract classes can override this to customize issubclass().\n",
      " |      \n",
      " |      This is invoked early on by abc.ABCMeta.__subclasscheck__().\n",
      " |      It should return True, False or NotImplemented.  If it returns\n",
      " |      NotImplemented, the normal algorithm is used.  Otherwise, it\n",
      " |      overrides the normal algorithm (and the outcome is cached).\n",
      " |  \n",
      " |  ----------------------------------------------------------------------\n",
      " |  Static methods defined here:\n",
      " |  \n",
      " |  __new__(*args, **kwargs) from builtins.type\n",
      " |      Create and return a new object.  See help(type) for accurate signature.\n",
      " |  \n",
      " |  ----------------------------------------------------------------------\n",
      " |  Data and other attributes defined here:\n",
      " |  \n",
      " |  __class__ = <class 'type'>\n",
      " |      type(object) -> the object's type\n",
      " |      type(name, bases, dict, **kwds) -> a new type\n",
      "\n"
     ]
    }
   ],
   "source": [
    "help(object)"
   ]
  },
  {
   "cell_type": "code",
   "execution_count": 4,
   "id": "299e8ec4-007a-4ba3-b3d1-90a69d3d714f",
   "metadata": {},
   "outputs": [
    {
     "name": "stdout",
     "output_type": "stream",
     "text": [
      "m1 in A\n",
      "m2 in C\n"
     ]
    }
   ],
   "source": [
    "class A:\n",
    "    def m1(self):\n",
    "        print(\"m1 in A\")\n",
    "\n",
    "class B:\n",
    "    def m1(self):\n",
    "        print(\"m1 in B\")\n",
    "\n",
    "class C(A,B):\n",
    "    def m2(self):\n",
    "        print(\"m2 in C\")\n",
    "\n",
    "obj=C()\n",
    "obj.m1() #MRO(child->first parent->second parent--->)\n",
    "obj.m2()"
   ]
  },
  {
   "cell_type": "code",
   "execution_count": 5,
   "id": "1c0e34a9-125b-4e37-ba72-0004604784ce",
   "metadata": {},
   "outputs": [
    {
     "name": "stdout",
     "output_type": "stream",
     "text": [
      "m1 in B\n",
      "m2 in C\n"
     ]
    }
   ],
   "source": [
    "class A:\n",
    "    def m1(self):\n",
    "        print(\"m1 in A\")\n",
    "\n",
    "class B:\n",
    "    def m1(self):\n",
    "        print(\"m1 in B\")\n",
    "\n",
    "class C(B,A):\n",
    "    def m2(self):\n",
    "        print(\"m2 in C\")\n",
    "\n",
    "obj=C()\n",
    "obj.m1() #MRO(child->first parent->second parent--->)\n",
    "obj.m2()"
   ]
  },
  {
   "cell_type": "markdown",
   "id": "79aafe73-e1a2-4f6b-8dc2-3d1d189382a4",
   "metadata": {},
   "source": [
    "# Data Encapsulation\n",
    "- It is technique to protect data members of a class from unauthorized access(outside class) directly and this outside code may access data memebers by methods of class."
   ]
  },
  {
   "cell_type": "code",
   "execution_count": 9,
   "id": "a70aead2-80a3-4d4f-b250-25778f4a1af8",
   "metadata": {},
   "outputs": [
    {
     "name": "stdout",
     "output_type": "stream",
     "text": [
      "10000\n"
     ]
    }
   ],
   "source": [
    "#Without encapsulation\n",
    "class emp:\n",
    "    def __init__(self):\n",
    "        self.sal=10000\n",
    "\n",
    "#outside class\n",
    "obj=emp()\n",
    "print(obj.sal)"
   ]
  },
  {
   "cell_type": "code",
   "execution_count": 14,
   "id": "c065c0c1-e827-412f-84c3-ebad76505560",
   "metadata": {},
   "outputs": [
    {
     "name": "stdout",
     "output_type": "stream",
     "text": [
      "10000\n"
     ]
    }
   ],
   "source": [
    "#With encapsulation\n",
    "class emp:\n",
    "    def __init__(self):\n",
    "        self.__sal=10000  #__sal is private data of class \n",
    "\n",
    "    def getsal(self):\n",
    "        return self.__sal\n",
    "        \n",
    "#outside class\n",
    "obj=emp()\n",
    "#print(obj.__sal)   #error\n",
    "print(obj.getsal())"
   ]
  },
  {
   "cell_type": "markdown",
   "id": "76914f71-156d-4d5b-b863-79d99d78b89c",
   "metadata": {},
   "source": [
    "# Nested Class\n",
    "- A class is said to be nested if it is defined inside block of other class\n",
    "- Generally,we define nested class to represent dependency with outer class,it means without outer class reference we do not want to use a class. "
   ]
  },
  {
   "cell_type": "code",
   "execution_count": 3,
   "id": "b3ba7646-b134-4362-888a-01dba5b8ca86",
   "metadata": {},
   "outputs": [
    {
     "name": "stdout",
     "output_type": "stream",
     "text": [
      "this is show\n",
      "this is disp\n",
      "this is disp\n"
     ]
    }
   ],
   "source": [
    "class A:        #top level/outer class\n",
    "    def show(self):\n",
    "        print('this is show')\n",
    "    \n",
    "    class B:    #nested/inner class\n",
    "        def disp(self):\n",
    "            print('this is disp')\n",
    "\n",
    "a=A()\n",
    "a.show()\n",
    "\n",
    "b=a.B()\n",
    "b.disp()\n",
    "\n",
    "b=A.B()\n",
    "b.disp()"
   ]
  },
  {
   "cell_type": "markdown",
   "id": "d035e5ef-f4c9-4099-981d-2ac467e1e074",
   "metadata": {},
   "source": [
    "# Polymorphism (One name many forms)\n",
    "- It is the ability of an entity to play multiple roles according to situation.\n",
    "- ##### Implementation\n",
    "- There are 2 implementations of Polymophism\n",
    "    - Method Overriding\n",
    "    - Operator Overloading "
   ]
  },
  {
   "cell_type": "code",
   "execution_count": 5,
   "id": "a499440c-4539-47e6-bcf9-c9f089b862a9",
   "metadata": {},
   "outputs": [
    {
     "name": "stdout",
     "output_type": "stream",
     "text": [
      "m1 in A\n",
      "m2 in B\n"
     ]
    }
   ],
   "source": [
    "#Method Overriding-->process of redefining a method of parent in child.\n",
    "class A:\n",
    "    def m1(self):\n",
    "        print('m1 in A')\n",
    "    def m2(self):\n",
    "        print('m2 in A')\n",
    "\n",
    "class B(A):\n",
    "    def m2(self):\n",
    "        print('m2 in B')\n",
    "\n",
    "obj=B()\n",
    "obj.m1()\n",
    "obj.m2()"
   ]
  },
  {
   "cell_type": "code",
   "execution_count": 8,
   "id": "145442b6-4608-46bc-a1b7-2e6eed951d69",
   "metadata": {},
   "outputs": [
    {
     "name": "stdout",
     "output_type": "stream",
     "text": [
      "m1 in A\n",
      "m2 in B\n",
      "m2 in A\n"
     ]
    }
   ],
   "source": [
    "#Method Overriding-->process of redefining a method of parent in child.\n",
    "class A:\n",
    "    def m1(self):\n",
    "        print('m1 in A')\n",
    "    \n",
    "    def m2(self):\n",
    "        print('m2 in A')\n",
    "\n",
    "class B(A):\n",
    "    def m2(self):\n",
    "        print('m2 in B')\n",
    "        super().m2()\n",
    "\n",
    "obj=B()\n",
    "obj.m1()\n",
    "obj.m2()"
   ]
  },
  {
   "cell_type": "code",
   "execution_count": 15,
   "id": "fd94d5e6-3a98-4020-9f8c-402a2d0f41fd",
   "metadata": {},
   "outputs": [
    {
     "name": "stdout",
     "output_type": "stream",
     "text": [
      "115\n",
      "3150\n"
     ]
    }
   ],
   "source": [
    "#Operator Overloading\n",
    "    #defining meaning of operator for a class\n",
    "    #for each operator there is a magic method and it is called by interperter\n",
    "    #Exp\n",
    "        # magic method of + is __add__(self,other)\n",
    "        # magic method of * is __mul__(self,other)\n",
    "        # etc.\n",
    "class match:\n",
    "    def __init__(self,r):\n",
    "        self.runs=r\n",
    "\n",
    "    def __add__(self,other):\n",
    "        return self.runs+other.runs\n",
    "\n",
    "    def __mul__(self,other):\n",
    "        return self.runs*other.runs\n",
    "\n",
    "m1=match(45)\n",
    "m2=match(70)\n",
    "print(m1+m2)\n",
    "print(m1*m2)"
   ]
  },
  {
   "cell_type": "markdown",
   "id": "d1d0753a-6130-414a-b1fc-ac6e7ce17e42",
   "metadata": {},
   "source": [
    "# Multithreading\n",
    "- It is the implementation of multitasking in Python.\n",
    "- It means, we can execute multiple jobs/funs at the same time by sharing interpreter time.\n",
    "- Advantage of multithreading is,it improves efficiency of application by reducing waiting time of independent jobs.\n",
    "\n",
    "#### Thread\n",
    "- A thread is a separate flow of execution.\n",
    "- In coding, A thread is represented by an **object of Thread class**"
   ]
  },
  {
   "cell_type": "code",
   "execution_count": 18,
   "id": "b0459452-cf5f-40f5-bbe8-db84bf6140a6",
   "metadata": {},
   "outputs": [
    {
     "name": "stdout",
     "output_type": "stream",
     "text": [
      "Sun Apr 21 15:12:46 2024\n"
     ]
    },
    {
     "name": "stdin",
     "output_type": "stream",
     "text": [
      "enter num= 32\n"
     ]
    }
   ],
   "source": [
    "from threading import Thread\n",
    "\n",
    "def checkeven():\n",
    "    num=int(input('enter num='))\n",
    "    if num%2==0:\n",
    "        print('even')\n",
    "    else:\n",
    "        print('odd')\n",
    "\n",
    "def showdate():\n",
    "    import time\n",
    "    print(time.ctime())\n",
    "\n",
    "t1=Thread(target=checkeven)\n",
    "t2=Thread(target=showdate)\n",
    "t1.start()\n",
    "t2.start()\n"
   ]
  },
  {
   "cell_type": "markdown",
   "id": "d60fa448-7ed4-4325-8a57-4bba34531609",
   "metadata": {},
   "source": [
    "# Real life applications based on Threading\n",
    "- uploading/downloading based applications\n",
    "- each tab in browser\n",
    "- each user in web/mobile application\n",
    "- animation\n",
    "- etc."
   ]
  },
  {
   "cell_type": "code",
   "execution_count": null,
   "id": "5a30b246-c628-4da9-b624-9b01e65fb4d0",
   "metadata": {},
   "outputs": [],
   "source": []
  }
 ],
 "metadata": {
  "kernelspec": {
   "display_name": "Python 3 (ipykernel)",
   "language": "python",
   "name": "python3"
  },
  "language_info": {
   "codemirror_mode": {
    "name": "ipython",
    "version": 3
   },
   "file_extension": ".py",
   "mimetype": "text/x-python",
   "name": "python",
   "nbconvert_exporter": "python",
   "pygments_lexer": "ipython3",
   "version": "3.11.7"
  }
 },
 "nbformat": 4,
 "nbformat_minor": 5
}
