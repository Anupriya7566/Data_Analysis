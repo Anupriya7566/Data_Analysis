{
 "cells": [
  {
   "cell_type": "code",
   "execution_count": 2,
   "id": "95027d01-1328-4db5-974e-a56f6c31cd6b",
   "metadata": {},
   "outputs": [
    {
     "data": {
      "text/plain": [
       "[15, 25, 35, 45]"
      ]
     },
     "execution_count": 2,
     "metadata": {},
     "output_type": "execute_result"
    }
   ],
   "source": [
    "x=[10,20,30,40]\n",
    "y=[]\n",
    "for i in x:\n",
    "    y.append(i+5)\n",
    "y"
   ]
  },
  {
   "cell_type": "code",
   "execution_count": 3,
   "id": "15e099b9-da33-4418-a212-3e8d72c1ccec",
   "metadata": {},
   "outputs": [],
   "source": [
    "import numpy as np"
   ]
  },
  {
   "cell_type": "code",
   "execution_count": 5,
   "id": "590638e6-54c6-4d42-8996-7f35a5d5d954",
   "metadata": {},
   "outputs": [
    {
     "name": "stdout",
     "output_type": "stream",
     "text": [
      "[10 20 30 40]\n",
      "[15 25 35 45]\n"
     ]
    }
   ],
   "source": [
    "x=np.array([10,20,30,40])\n",
    "print(x)\n",
    "y=x+5\n",
    "print(y)"
   ]
  },
  {
   "cell_type": "code",
   "execution_count": 23,
   "id": "5867b2ba-129f-427e-ad82-c86fc39e47f8",
   "metadata": {},
   "outputs": [
    {
     "name": "stdout",
     "output_type": "stream",
     "text": [
      "[10 20 30 40  5 12 39]\n",
      "10\n",
      "[10 20 30]\n",
      "[30 40 39]\n",
      "[10 20 30 40 12 39]\n",
      "[30 40]\n"
     ]
    }
   ],
   "source": [
    "x=np.array([10,20,30,40,5,12,39])\n",
    "print(x)\n",
    "print(x[0])\n",
    "print(x[:3])\n",
    "print(x[x>25])\n",
    "print(x[(x>25) | (x%2==0)])\n",
    "print(x[(x>25) & (x%2==0)])"
   ]
  },
  {
   "cell_type": "markdown",
   "id": "733be08b-7141-4b0f-8974-3e1d00e32f8f",
   "metadata": {},
   "source": [
    "# Creating of Numpy 2D Array(Matrix)"
   ]
  },
  {
   "cell_type": "code",
   "execution_count": 27,
   "id": "413a0777-d267-4ecb-8917-d60972c87c6f",
   "metadata": {},
   "outputs": [
    {
     "name": "stdout",
     "output_type": "stream",
     "text": [
      "[[1 2 3]\n",
      " [2 3 4]\n",
      " [4 5 6]\n",
      " [1 2 1]]\n"
     ]
    }
   ],
   "source": [
    "a=np.array([[1,2,3],[2,3,4],[4,5,6],[1,2,1]])\n",
    "print(a)"
   ]
  },
  {
   "cell_type": "code",
   "execution_count": 28,
   "id": "1a60e01d-4cd4-4293-ae7d-6b027a75c824",
   "metadata": {},
   "outputs": [
    {
     "name": "stdout",
     "output_type": "stream",
     "text": [
      "[[0. 0. 0.]\n",
      " [0. 0. 0.]\n",
      " [0. 0. 0.]\n",
      " [0. 0. 0.]]\n"
     ]
    }
   ],
   "source": [
    "a=np.zeros((4,3)) #(rows,cols)\n",
    "print(a)"
   ]
  },
  {
   "cell_type": "code",
   "execution_count": 29,
   "id": "9542ddbc-2138-4a02-9f97-06114070ba08",
   "metadata": {},
   "outputs": [
    {
     "name": "stdout",
     "output_type": "stream",
     "text": [
      "[[0. 0. 0.]\n",
      " [0. 0. 0.]\n",
      " [0. 0. 5.]\n",
      " [0. 0. 0.]]\n"
     ]
    }
   ],
   "source": [
    "#How to access a value in matrix\n",
    "#1. array[row_index][col_index]\n",
    "#2. array[row_index,col_index]\n",
    "a[2][-1]=5\n",
    "print(a)"
   ]
  },
  {
   "cell_type": "code",
   "execution_count": 31,
   "id": "af793231-3dd1-450b-b9fd-69875a76bcee",
   "metadata": {},
   "outputs": [
    {
     "name": "stdout",
     "output_type": "stream",
     "text": [
      "5.0\n",
      "[[ 0.  0.  0.]\n",
      " [10.  0.  0.]\n",
      " [ 0.  0.  5.]\n",
      " [ 0.  0.  0.]]\n"
     ]
    }
   ],
   "source": [
    "print(a[2,-1])\n",
    "a[1,0]=10\n",
    "print(a)"
   ]
  },
  {
   "cell_type": "code",
   "execution_count": 32,
   "id": "f4925136-2beb-436a-bc85-ca99b15e8b55",
   "metadata": {},
   "outputs": [
    {
     "name": "stdout",
     "output_type": "stream",
     "text": [
      "[[1. 1. 1.]\n",
      " [1. 1. 1.]\n",
      " [1. 1. 1.]]\n"
     ]
    }
   ],
   "source": [
    "a=np.ones((3,3))#(r,c)\n",
    "print(a)"
   ]
  },
  {
   "cell_type": "code",
   "execution_count": 33,
   "id": "566ef01c-f679-4865-b108-a3d631f95cf9",
   "metadata": {},
   "outputs": [
    {
     "name": "stdout",
     "output_type": "stream",
     "text": [
      "[[100 100 100]\n",
      " [100 100 100]\n",
      " [100 100 100]]\n"
     ]
    }
   ],
   "source": [
    "a=np.full((3,3),100)#(r,c),initial_value\n",
    "print(a)"
   ]
  },
  {
   "cell_type": "code",
   "execution_count": 34,
   "id": "5dba52bb-bb5b-4019-a61a-f7d4d67ad371",
   "metadata": {},
   "outputs": [
    {
     "name": "stdout",
     "output_type": "stream",
     "text": [
      "[[4 6 2]\n",
      " [2 3 1]\n",
      " [6 5 7]]\n"
     ]
    }
   ],
   "source": [
    "a=np.random.randint(1,10,(3,3)) #low,high,(r,c)\n",
    "print(a)"
   ]
  },
  {
   "cell_type": "code",
   "execution_count": 35,
   "id": "c4dbd1c8-0711-4df9-a7a6-0db11761f5b9",
   "metadata": {},
   "outputs": [
    {
     "name": "stdout",
     "output_type": "stream",
     "text": [
      "[[8.13851868 9.92687447 8.60190986]\n",
      " [8.20920681 6.98825024 2.28615081]\n",
      " [6.22710119 9.15877659 8.0632498 ]]\n"
     ]
    }
   ],
   "source": [
    "a=np.random.uniform(1,10,(3,3))#low,high,(r,c) for floating values\n",
    "print(a)"
   ]
  },
  {
   "cell_type": "code",
   "execution_count": 36,
   "id": "b0ebd78d-598d-467b-99c6-b92f6e2885b1",
   "metadata": {},
   "outputs": [
    {
     "name": "stdout",
     "output_type": "stream",
     "text": [
      "[[1. 0. 0.]\n",
      " [0. 1. 0.]\n",
      " [0. 0. 1.]]\n"
     ]
    }
   ],
   "source": [
    "a=np.eye(3,3) #(r,c) #identity matrix\n",
    "print(a)"
   ]
  },
  {
   "cell_type": "markdown",
   "id": "96493f1a-cd0f-4326-9632-ebb9bc851ae0",
   "metadata": {},
   "source": [
    "# Numpy to perform statistical operations"
   ]
  },
  {
   "cell_type": "code",
   "execution_count": 37,
   "id": "c2661fd4-dcad-4c8e-8874-54d374af4171",
   "metadata": {},
   "outputs": [
    {
     "name": "stdout",
     "output_type": "stream",
     "text": [
      "[7 3 1 8 4 3 9 1 7 7 3 8 6 4 6 1 8 7 9 4]\n"
     ]
    }
   ],
   "source": [
    "a=np.random.randint(1,10,20)\n",
    "print(a)"
   ]
  },
  {
   "cell_type": "code",
   "execution_count": 56,
   "id": "77485f41-4b45-4506-8049-007c305966ed",
   "metadata": {},
   "outputs": [
    {
     "name": "stdout",
     "output_type": "stream",
     "text": [
      "106\n",
      "5.3\n",
      "6.0\n",
      "[3.   6.   7.25]\n",
      "[3. 4. 7. 8.]\n",
      "2.628687885618983\n",
      "9\n",
      "1\n",
      "2\n",
      "(array([ 0,  8,  9, 17], dtype=int64),)\n",
      "(array([ 1,  2,  4,  5,  7, 10, 13, 15, 19], dtype=int64),)\n",
      "(array([ 2,  7, 15], dtype=int64),)\n",
      "6\n"
     ]
    }
   ],
   "source": [
    "print(np.sum(a))\n",
    "print(np.mean(a)) #arithmetic average\n",
    "print(np.median(a)) \n",
    "print(np.quantile(a,[.25,.50,.75])) \n",
    "print(np.quantile(a,[.20,.40,.60,.80])) \n",
    "print(np.std(a))\n",
    "print(np.max(a))\n",
    "print(np.min(a))\n",
    "print(np.argmin(a))     #returns lowest index of min value\n",
    "print(np.where(a==7))   #returns all indexes of values where condition is True\n",
    "print(np.where(a<5))    #returns all indexes of values where condition is True\n",
    "print(np.where(a==np.min(a))) \n",
    "print(np.argmax(a))     #returns lowest index of max value"
   ]
  },
  {
   "cell_type": "markdown",
   "id": "adbeef5e-ad96-493a-b4c3-32928e964ae2",
   "metadata": {},
   "source": [
    "# Statistical operations with matrix"
   ]
  },
  {
   "cell_type": "code",
   "execution_count": 57,
   "id": "10fdc11a-83d4-4a93-afb9-aa79ae93aeb4",
   "metadata": {},
   "outputs": [
    {
     "name": "stdout",
     "output_type": "stream",
     "text": [
      "[[7 9 5 1]\n",
      " [4 5 9 4]\n",
      " [9 3 7 2]]\n"
     ]
    }
   ],
   "source": [
    "a=np.random.randint(1,10,(3,4))\n",
    "print(a)"
   ]
  },
  {
   "cell_type": "code",
   "execution_count": 64,
   "id": "ee92c200-b974-4033-8fb7-d5389d3828d4",
   "metadata": {},
   "outputs": [
    {
     "name": "stdout",
     "output_type": "stream",
     "text": [
      "65\n",
      "[22 22 21]\n",
      "[20 17 21  7]\n",
      "1\n",
      "[1 4 2]\n",
      "[4 3 5 1]\n",
      "3\n",
      "[3 0 3]\n",
      "[1 2 0 0]\n"
     ]
    }
   ],
   "source": [
    "print(np.sum(a))         #sum of all values\n",
    "print(np.sum(a,axis=1))  #row-wise sum\n",
    "print(np.sum(a,axis=0))  #col-wise sum\n",
    "\n",
    "print(np.min(a))         #min in matrix\n",
    "print(np.min(a,axis=1))  #min in each row\n",
    "print(np.min(a,axis=0))  #min in each col\n",
    "\n",
    "print(np.argmin(a))      #first flatten the matrix(converted to 1d array) then returns index of min value\n",
    "print(np.argmin(a,axis=1))\n",
    "print(np.argmin(a,axis=0))"
   ]
  },
  {
   "cell_type": "markdown",
   "id": "52c3afd6-e0ab-451c-b76c-520d6b3f617f",
   "metadata": {},
   "source": [
    "# matrix related operations"
   ]
  },
  {
   "cell_type": "code",
   "execution_count": 65,
   "id": "3bac0d4d-5197-4940-a432-c65d3cfaf2c7",
   "metadata": {},
   "outputs": [
    {
     "name": "stdout",
     "output_type": "stream",
     "text": [
      "[[7 9 5 1]\n",
      " [4 5 9 4]\n",
      " [9 3 7 2]]\n"
     ]
    }
   ],
   "source": [
    "print(a)"
   ]
  },
  {
   "cell_type": "code",
   "execution_count": 66,
   "id": "0a8baca0-d2bf-447e-941a-2a2b445a4299",
   "metadata": {},
   "outputs": [
    {
     "name": "stdout",
     "output_type": "stream",
     "text": [
      "[[7 4 9]\n",
      " [9 5 3]\n",
      " [5 9 7]\n",
      " [1 4 2]]\n"
     ]
    }
   ],
   "source": [
    "print(np.transpose(a)) #rows-->converted to columns ,returns new matrix"
   ]
  },
  {
   "cell_type": "code",
   "execution_count": 69,
   "id": "a345d28c-110b-4e27-8fbe-17a5b3f3b63b",
   "metadata": {},
   "outputs": [
    {
     "name": "stdout",
     "output_type": "stream",
     "text": [
      "[[14 18 10  2]\n",
      " [ 8 10 18  8]\n",
      " [18  6 14  4]]\n"
     ]
    }
   ],
   "source": [
    "print(a*2) #returns a new matrix"
   ]
  },
  {
   "cell_type": "code",
   "execution_count": 70,
   "id": "b4e078b8-9815-4fe8-8100-2a00f40fd851",
   "metadata": {},
   "outputs": [
    {
     "name": "stdout",
     "output_type": "stream",
     "text": [
      "[7 9 9 9 7]\n"
     ]
    }
   ],
   "source": [
    "print(a[a>5]) #returns 1d array"
   ]
  },
  {
   "cell_type": "code",
   "execution_count": 71,
   "id": "3ba82140-76c0-4b53-81f8-db266822d3c1",
   "metadata": {},
   "outputs": [
    {
     "name": "stdout",
     "output_type": "stream",
     "text": [
      "[[1 2]\n",
      " [2 3]]\n",
      "[[2 1]\n",
      " [2 2]]\n"
     ]
    }
   ],
   "source": [
    "a=np.array([[1,2],[2,3]])\n",
    "b=np.array([[2,1],[2,2]])\n",
    "print(a)\n",
    "print(b)"
   ]
  },
  {
   "cell_type": "code",
   "execution_count": 72,
   "id": "74c043a2-c0fa-45ab-ab00-23a24098a9ce",
   "metadata": {},
   "outputs": [
    {
     "name": "stdout",
     "output_type": "stream",
     "text": [
      "[[ 6  5]\n",
      " [10  8]]\n"
     ]
    }
   ],
   "source": [
    "print(np.dot(a,b))"
   ]
  },
  {
   "cell_type": "code",
   "execution_count": 73,
   "id": "550639ad-29eb-4c06-a936-b6a2a4a40c24",
   "metadata": {},
   "outputs": [
    {
     "data": {
      "text/plain": [
       "array([[2, 2],\n",
       "       [4, 6]])"
      ]
     },
     "execution_count": 73,
     "metadata": {},
     "output_type": "execute_result"
    }
   ],
   "source": [
    "a*b  #element by element multiply not dot product"
   ]
  },
  {
   "cell_type": "code",
   "execution_count": 75,
   "id": "08d266bf-6893-491d-af05-379e9503b101",
   "metadata": {},
   "outputs": [
    {
     "name": "stdout",
     "output_type": "stream",
     "text": [
      "[[ 6  5]\n",
      " [10  8]]\n"
     ]
    }
   ],
   "source": [
    "print(a@b)  #dot product same as np.dot(a,b)"
   ]
  },
  {
   "cell_type": "code",
   "execution_count": 76,
   "id": "445b73b1-b76a-4de3-b861-0c8955fd337e",
   "metadata": {},
   "outputs": [
    {
     "name": "stdout",
     "output_type": "stream",
     "text": [
      "[[ 4  7]\n",
      " [ 6 10]]\n"
     ]
    }
   ],
   "source": [
    "print(b@a)"
   ]
  },
  {
   "cell_type": "markdown",
   "id": "5755f38c-c651-42ad-82f6-658ae47c08f9",
   "metadata": {},
   "source": [
    "# Array Attributes to find Meta Information\n",
    "- are variables/properties of array object that provides various information like dim,shape,size,dtype of array."
   ]
  },
  {
   "cell_type": "code",
   "execution_count": 79,
   "id": "27e949db-4bed-4f4b-acef-99359a36f312",
   "metadata": {},
   "outputs": [
    {
     "name": "stdout",
     "output_type": "stream",
     "text": [
      "[[8 7 1 6]\n",
      " [7 7 8 4]\n",
      " [7 3 9 6]]\n"
     ]
    }
   ],
   "source": [
    "a=np.random.randint(1,10,(3,4))\n",
    "print(a)"
   ]
  },
  {
   "cell_type": "code",
   "execution_count": 82,
   "id": "e408d6bc-ed63-4b59-953d-bf001bc9f7f8",
   "metadata": {},
   "outputs": [
    {
     "name": "stdout",
     "output_type": "stream",
     "text": [
      "2\n",
      "int32\n",
      "(3, 4)\n",
      "12\n"
     ]
    }
   ],
   "source": [
    "print(a.ndim)\n",
    "print(a.dtype)\n",
    "print(a.shape)\n",
    "print(a.size)"
   ]
  },
  {
   "cell_type": "code",
   "execution_count": null,
   "id": "ccefb63a-405d-42ff-84a3-c075e5640c01",
   "metadata": {},
   "outputs": [],
   "source": []
  }
 ],
 "metadata": {
  "kernelspec": {
   "display_name": "Python 3 (ipykernel)",
   "language": "python",
   "name": "python3"
  },
  "language_info": {
   "codemirror_mode": {
    "name": "ipython",
    "version": 3
   },
   "file_extension": ".py",
   "mimetype": "text/x-python",
   "name": "python",
   "nbconvert_exporter": "python",
   "pygments_lexer": "ipython3",
   "version": "3.11.7"
  }
 },
 "nbformat": 4,
 "nbformat_minor": 5
}
