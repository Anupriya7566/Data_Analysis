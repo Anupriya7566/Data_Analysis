{
 "cells": [
  {
   "cell_type": "markdown",
   "id": "c5692ee6-312a-4dad-8944-3a558a42545a",
   "metadata": {},
   "source": [
    "# Handling Duplicate Rows"
   ]
  },
  {
   "cell_type": "code",
   "execution_count": 1,
   "id": "6e4fccbe-4410-4726-b86b-c83b10d0a5d9",
   "metadata": {},
   "outputs": [],
   "source": [
    "import pandas as pd"
   ]
  },
  {
   "cell_type": "code",
   "execution_count": 3,
   "id": "1b7bccf4-a099-4a88-8338-aa222772adbe",
   "metadata": {},
   "outputs": [
    {
     "data": {
      "text/html": [
       "<div>\n",
       "<style scoped>\n",
       "    .dataframe tbody tr th:only-of-type {\n",
       "        vertical-align: middle;\n",
       "    }\n",
       "\n",
       "    .dataframe tbody tr th {\n",
       "        vertical-align: top;\n",
       "    }\n",
       "\n",
       "    .dataframe thead th {\n",
       "        text-align: right;\n",
       "    }\n",
       "</style>\n",
       "<table border=\"1\" class=\"dataframe\">\n",
       "  <thead>\n",
       "    <tr style=\"text-align: right;\">\n",
       "      <th></th>\n",
       "      <th>day</th>\n",
       "      <th>temperature</th>\n",
       "      <th>windspeed</th>\n",
       "      <th>event</th>\n",
       "    </tr>\n",
       "  </thead>\n",
       "  <tbody>\n",
       "    <tr>\n",
       "      <th>0</th>\n",
       "      <td>1/1/2017</td>\n",
       "      <td>32</td>\n",
       "      <td>6</td>\n",
       "      <td>Rain</td>\n",
       "    </tr>\n",
       "    <tr>\n",
       "      <th>1</th>\n",
       "      <td>1/4/2017</td>\n",
       "      <td>-99999</td>\n",
       "      <td>9</td>\n",
       "      <td>Sunny</td>\n",
       "    </tr>\n",
       "    <tr>\n",
       "      <th>2</th>\n",
       "      <td>1/5/2017</td>\n",
       "      <td>28</td>\n",
       "      <td>-99999</td>\n",
       "      <td>Snow</td>\n",
       "    </tr>\n",
       "    <tr>\n",
       "      <th>3</th>\n",
       "      <td>1/6/2017</td>\n",
       "      <td>-99999</td>\n",
       "      <td>7</td>\n",
       "      <td>No event</td>\n",
       "    </tr>\n",
       "    <tr>\n",
       "      <th>4</th>\n",
       "      <td>1/7/2017</td>\n",
       "      <td>32</td>\n",
       "      <td>-88888</td>\n",
       "      <td>Rain</td>\n",
       "    </tr>\n",
       "    <tr>\n",
       "      <th>5</th>\n",
       "      <td>1/11/2017</td>\n",
       "      <td>40</td>\n",
       "      <td>12</td>\n",
       "      <td>No event</td>\n",
       "    </tr>\n",
       "  </tbody>\n",
       "</table>\n",
       "</div>"
      ],
      "text/plain": [
       "         day  temperature  windspeed     event\n",
       "0   1/1/2017           32          6      Rain\n",
       "1   1/4/2017       -99999          9     Sunny\n",
       "2   1/5/2017           28     -99999      Snow\n",
       "3   1/6/2017       -99999          7  No event\n",
       "4   1/7/2017           32     -88888      Rain\n",
       "5  1/11/2017           40         12  No event"
      ]
     },
     "execution_count": 3,
     "metadata": {},
     "output_type": "execute_result"
    }
   ],
   "source": [
    "df=pd.read_csv('f:/dataset/analysis/weather_data2.txt')\n",
    "df.drop_duplicates() #it will consider all colms"
   ]
  },
  {
   "cell_type": "code",
   "execution_count": 4,
   "id": "a223be0c-039d-4e04-a35a-75a0f83bba66",
   "metadata": {},
   "outputs": [
    {
     "data": {
      "text/html": [
       "<div>\n",
       "<style scoped>\n",
       "    .dataframe tbody tr th:only-of-type {\n",
       "        vertical-align: middle;\n",
       "    }\n",
       "\n",
       "    .dataframe tbody tr th {\n",
       "        vertical-align: top;\n",
       "    }\n",
       "\n",
       "    .dataframe thead th {\n",
       "        text-align: right;\n",
       "    }\n",
       "</style>\n",
       "<table border=\"1\" class=\"dataframe\">\n",
       "  <thead>\n",
       "    <tr style=\"text-align: right;\">\n",
       "      <th></th>\n",
       "      <th>day</th>\n",
       "      <th>temperature</th>\n",
       "      <th>windspeed</th>\n",
       "      <th>event</th>\n",
       "    </tr>\n",
       "  </thead>\n",
       "  <tbody>\n",
       "    <tr>\n",
       "      <th>0</th>\n",
       "      <td>1/1/2017</td>\n",
       "      <td>32</td>\n",
       "      <td>6</td>\n",
       "      <td>Rain</td>\n",
       "    </tr>\n",
       "    <tr>\n",
       "      <th>1</th>\n",
       "      <td>1/4/2017</td>\n",
       "      <td>-99999</td>\n",
       "      <td>9</td>\n",
       "      <td>Sunny</td>\n",
       "    </tr>\n",
       "    <tr>\n",
       "      <th>2</th>\n",
       "      <td>1/5/2017</td>\n",
       "      <td>28</td>\n",
       "      <td>-99999</td>\n",
       "      <td>Snow</td>\n",
       "    </tr>\n",
       "    <tr>\n",
       "      <th>5</th>\n",
       "      <td>1/11/2017</td>\n",
       "      <td>40</td>\n",
       "      <td>12</td>\n",
       "      <td>No event</td>\n",
       "    </tr>\n",
       "  </tbody>\n",
       "</table>\n",
       "</div>"
      ],
      "text/plain": [
       "         day  temperature  windspeed     event\n",
       "0   1/1/2017           32          6      Rain\n",
       "1   1/4/2017       -99999          9     Sunny\n",
       "2   1/5/2017           28     -99999      Snow\n",
       "5  1/11/2017           40         12  No event"
      ]
     },
     "execution_count": 4,
     "metadata": {},
     "output_type": "execute_result"
    }
   ],
   "source": [
    "df.drop_duplicates(subset=['temperature']) #it will consider only given cols"
   ]
  },
  {
   "cell_type": "code",
   "execution_count": 16,
   "id": "a41835ff-c466-466c-a33f-29d0acfd1589",
   "metadata": {},
   "outputs": [],
   "source": [
    "from scipy import stats\n",
    "import numpy as np"
   ]
  },
  {
   "cell_type": "code",
   "execution_count": 17,
   "id": "182f0029-6f38-4990-a52f-75fb8d0e31b4",
   "metadata": {},
   "outputs": [
    {
     "name": "stdout",
     "output_type": "stream",
     "text": [
      "60.5\n",
      "42.0\n",
      "there is no significance difference in the mean(avg) recovery time of both groups\n"
     ]
    }
   ],
   "source": [
    "#two tail T-test independent\n",
    "group1=[55,75,50,60,58,65]\n",
    "group2=[54,10,52,60,56,20]\n",
    "print(np.mean(group1))\n",
    "print(np.mean(group2))\n",
    "\n",
    "null_hyp=\"there is no significance difference in the mean(avg) recovery time of both groups\"\n",
    "alt_hyp=\"there is significance difference in the mean(avg) recovery time of both groups\"\n",
    "svalue,pvalue=stats.ttest_ind(group1,group2)\n",
    "if pvalue<=.05:\n",
    "    print(alt_hyp)\n",
    "else:\n",
    "    print(null_hyp)"
   ]
  },
  {
   "cell_type": "code",
   "execution_count": 18,
   "id": "4cdf52dd-c859-40f3-adfe-99118a094962",
   "metadata": {},
   "outputs": [
    {
     "data": {
      "text/plain": [
       "4.2"
      ]
     },
     "execution_count": 18,
     "metadata": {},
     "output_type": "execute_result"
    }
   ],
   "source": [
    "x=[3,2,6,9,1]\n",
    "np.mean(x)"
   ]
  },
  {
   "cell_type": "code",
   "execution_count": 19,
   "id": "3925fc82-8651-433f-b829-3bbbb87b4a59",
   "metadata": {},
   "outputs": [
    {
     "data": {
      "text/plain": [
       "1.9685678761275431"
      ]
     },
     "execution_count": 19,
     "metadata": {},
     "output_type": "execute_result"
    }
   ],
   "source": [
    "svalue"
   ]
  },
  {
   "cell_type": "code",
   "execution_count": 20,
   "id": "3afdd63f-474c-4adf-a979-93bf2d00b8fb",
   "metadata": {},
   "outputs": [
    {
     "data": {
      "text/plain": [
       "0.07732820760782853"
      ]
     },
     "execution_count": 20,
     "metadata": {},
     "output_type": "execute_result"
    }
   ],
   "source": [
    "pvalue"
   ]
  },
  {
   "cell_type": "code",
   "execution_count": 23,
   "id": "e3a89106-886d-4aa1-bb36-005155269a84",
   "metadata": {},
   "outputs": [
    {
     "name": "stdout",
     "output_type": "stream",
     "text": [
      "3.1666666666666665\n",
      "4.95\n",
      "there is significance difference in the mean(avg) IQ level before and after\n"
     ]
    }
   ],
   "source": [
    "#two tail T-test Paired\n",
    "before=[2,2.5,1.5,4,3.5,5.5]\n",
    "after=[4.2,4.5,3,4,6,8]\n",
    "print(np.mean(before))\n",
    "print(np.mean(after))\n",
    "\n",
    "null_hyp=\"there is no significance difference in the mean(avg) IQ level before and after\"\n",
    "alt_hyp=\"there is significance difference in the mean(avg) IQ level before and after\"\n",
    "svalue,pvalue=stats.ttest_rel(before,after)\n",
    "if pvalue<=.05:\n",
    "    print(alt_hyp)\n",
    "else:\n",
    "    print(null_hyp)"
   ]
  },
  {
   "cell_type": "code",
   "execution_count": 26,
   "id": "ba517028-83ad-415e-b65b-e60a7e55874d",
   "metadata": {},
   "outputs": [
    {
     "name": "stdout",
     "output_type": "stream",
     "text": [
      "34.0\n",
      "there is no difference\n"
     ]
    }
   ],
   "source": [
    "#one tail T-test 1 sample\n",
    "s=[25,28,18,90,20,23]\n",
    "print(np.mean(s))\n",
    "null_hyp=\"there is no difference\"\n",
    "alt_hyp=\"there is a difference\"\n",
    "svalue,pvalue=stats.ttest_1samp(s,40)\n",
    "if pvalue<=.05:\n",
    "    print(alt_hyp)\n",
    "else:\n",
    "    print(null_hyp)"
   ]
  },
  {
   "cell_type": "code",
   "execution_count": null,
   "id": "4e73cd26-2303-4e58-ad10-9861b9250c67",
   "metadata": {},
   "outputs": [],
   "source": []
  }
 ],
 "metadata": {
  "kernelspec": {
   "display_name": "Python 3 (ipykernel)",
   "language": "python",
   "name": "python3"
  },
  "language_info": {
   "codemirror_mode": {
    "name": "ipython",
    "version": 3
   },
   "file_extension": ".py",
   "mimetype": "text/x-python",
   "name": "python",
   "nbconvert_exporter": "python",
   "pygments_lexer": "ipython3",
   "version": "3.11.7"
  }
 },
 "nbformat": 4,
 "nbformat_minor": 5
}
