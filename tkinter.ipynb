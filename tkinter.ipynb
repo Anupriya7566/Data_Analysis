{
 "cells": [
  {
   "cell_type": "markdown",
   "id": "fbb6fa8e-f5ec-49ad-8d8d-0b7eada1687f",
   "metadata": {},
   "source": [
    "# tkinter\n",
    "- ##### It is a python library to create desktop based GUI applications.\n",
    "- ##### each graphical component(also known as widget) is represented by an object."
   ]
  },
  {
   "cell_type": "code",
   "execution_count": 1,
   "id": "ec3832a2-dfd3-4ff5-b299-b4a29cd6f19f",
   "metadata": {},
   "outputs": [],
   "source": [
    "from tkinter import *"
   ]
  },
  {
   "cell_type": "code",
   "execution_count": 9,
   "id": "4ee7b945-d960-45fa-b75c-eecc87a8fad4",
   "metadata": {},
   "outputs": [],
   "source": [
    "win=Tk()                                      #create window\n",
    "win.geometry(\"600x400\")                       #initial WxH\n",
    "win.resizable(width=False,height=False)       #disable resizing window at runtime\n",
    "win.state(\"zoomed\")                           #to make fullscreen window\n",
    "win.configure(bg=\"yellow\")                    #to setbgcolor of window\n",
    "win.mainloop()                                #make the window visible"
   ]
  },
  {
   "cell_type": "code",
   "execution_count": 10,
   "id": "eaf283f3-b06b-47cd-aab6-f942bc62fd49",
   "metadata": {},
   "outputs": [],
   "source": [
    "win=Tk()                                      \n",
    "win.geometry(\"600x400\")                     \n",
    "win.configure(bg=\"yellow\") \n",
    "\n",
    "b1=Button(win,text=\"ok\")\n",
    "b2=Button(win,text=\"submit\")\n",
    "\n",
    "win.mainloop()                               "
   ]
  },
  {
   "cell_type": "markdown",
   "id": "ec655ec0-cfa2-46f4-baef-9f56fba8fce1",
   "metadata": {},
   "source": [
    "# Layout Manager\n",
    "- ##### it is responsible to position widgets into it's parent.\n",
    "- ##### we have 3 types of layout\n",
    "  - place\n",
    "  - pack\n",
    "  - grid"
   ]
  },
  {
   "cell_type": "code",
   "execution_count": 18,
   "id": "499c0dac-2e75-47c1-94db-d0ab485bf7e0",
   "metadata": {},
   "outputs": [],
   "source": [
    "win=Tk()                                      \n",
    "win.geometry(\"600x400\")                     \n",
    "win.configure(bg=\"yellow\") \n",
    "\n",
    "b1=Button(win,text=\"ok\")\n",
    "b2=Button(win,text=\"submit\")\n",
    "\n",
    "b1.place(x=200,y=150)\n",
    "b2.place(x=300,y=150)\n",
    "\n",
    "win.mainloop()                               "
   ]
  },
  {
   "cell_type": "code",
   "execution_count": 29,
   "id": "baeb767e-3c1c-44e2-a2ff-0839edee6fb0",
   "metadata": {},
   "outputs": [],
   "source": [
    "win=Tk()                                      \n",
    "win.geometry(\"600x400\")                     \n",
    "win.configure(bg=\"yellow\") \n",
    "\n",
    "b1=Button(win,text=\"ok\",width=7,font=('arial',20,'bold'),fg='blue',bg='pink',bd=5)\n",
    "b2=Button(win,text=\"submit\",width=7,font=('arial',20,'bold'),bd=5)\n",
    "\n",
    "#absolute\n",
    "b1.place(x=150,y=150)\n",
    "b2.place(x=300,y=150)\n",
    "\n",
    "win.mainloop()                               "
   ]
  },
  {
   "cell_type": "code",
   "execution_count": 30,
   "id": "22933ccf-41aa-4c8e-808d-b1e9cac78668",
   "metadata": {},
   "outputs": [],
   "source": [
    "win=Tk()                                      \n",
    "win.geometry(\"600x400\")                     \n",
    "win.configure(bg=\"yellow\") \n",
    "\n",
    "b1=Button(win,text=\"ok\",width=7,font=('arial',20,'bold'),fg='blue',bg='pink',bd=5)\n",
    "b2=Button(win,text=\"submit\",width=7,font=('arial',20,'bold'),bd=5)\n",
    "\n",
    "#relative\n",
    "b1.place(relx=.25,rely=.4)\n",
    "b2.place(relx=.5,rely=.4)\n",
    "\n",
    "win.mainloop()                               "
   ]
  },
  {
   "cell_type": "code",
   "execution_count": 37,
   "id": "e3998113-6bd3-4509-aa3d-327f322a9c40",
   "metadata": {},
   "outputs": [],
   "source": [
    "win=Tk()                                      \n",
    "win.geometry(\"600x400\")                     \n",
    "win.configure(bg=\"yellow\") \n",
    "\n",
    "b1=Button(win,text=\"ok\",width=7,font=('arial',20,'bold'),fg='blue',bg='pink',bd=5)\n",
    "b2=Button(win,text=\"submit\",width=7,font=('arial',20,'bold'),bd=5)\n",
    "\n",
    "b1.pack(side='top',anchor='w',pady=10,padx=20)\n",
    "b2.pack(side='top',anchor='w')\n",
    "\n",
    "win.mainloop()                               "
   ]
  },
  {
   "cell_type": "code",
   "execution_count": 38,
   "id": "1738910d-fe4f-414b-860c-1cb640f16689",
   "metadata": {},
   "outputs": [],
   "source": [
    "win=Tk()                                      \n",
    "win.geometry(\"600x400\")                     \n",
    "win.configure(bg=\"yellow\") \n",
    "\n",
    "b1=Button(win,text=\"ok\",width=7,font=('arial',20,'bold'),fg='blue',bg='pink',bd=5)\n",
    "b2=Button(win,text=\"submit\",width=7,font=('arial',20,'bold'),bd=5)\n",
    "\n",
    "b1.pack() #default side=top,anchor=c\n",
    "b2.pack(side='bottom',anchor='c')\n",
    "\n",
    "win.mainloop()                               "
   ]
  },
  {
   "cell_type": "code",
   "execution_count": 41,
   "id": "8ee00832-afa9-42d5-8410-b1ff91cafaa0",
   "metadata": {},
   "outputs": [],
   "source": [
    "win=Tk()                                      \n",
    "win.geometry(\"600x400\")                     \n",
    "win.configure(bg=\"yellow\") \n",
    "\n",
    "b1=Button(win,text=\"submit-1\",width=7,font=('arial',20,'bold'),bd=5)\n",
    "b2=Button(win,text=\"submit-2\",width=7,font=('arial',20,'bold'),bd=5)\n",
    "b3=Button(win,text=\"submit-3\",width=7,font=('arial',20,'bold'),bd=5)\n",
    "b4=Button(win,text=\"submit-4\",width=7,font=('arial',20,'bold'),bd=5)\n",
    "\n",
    "b1.grid(row=0,column=0)\n",
    "b2.grid(row=0,column=1)\n",
    "b3.grid(row=1,column=0)\n",
    "b4.grid(row=1,column=1)\n",
    "\n",
    "win.mainloop()                               "
   ]
  },
  {
   "cell_type": "code",
   "execution_count": 52,
   "id": "3bec53c3-3f34-48d6-afd3-4c2429f14b99",
   "metadata": {},
   "outputs": [],
   "source": [
    "from tkinter import *\n",
    "win=Tk()                                      \n",
    "win.geometry(\"600x400\")                     \n",
    "win.configure(bg=\"yellow\") \n",
    "\n",
    "frm=Frame(win)\n",
    "frm.configure(bg='yellow')\n",
    "frm.place(x=100,y=50,width=400,height=200)\n",
    "\n",
    "b1=Button(frm,text=\"submit-1\",width=7,font=('arial',20,'bold'),bd=5)\n",
    "b2=Button(frm,text=\"submit-2\",width=7,font=('arial',20,'bold'),bd=5)\n",
    "b3=Button(frm,text=\"submit-3\",width=7,font=('arial',20,'bold'),bd=5)\n",
    "b4=Button(frm,text=\"submit-4\",width=7,font=('arial',20,'bold'),bd=5)\n",
    "\n",
    "b1.grid(row=0,column=0)\n",
    "b2.grid(row=0,column=1)\n",
    "b3.grid(row=1,column=0)\n",
    "b4.grid(row=1,column=1)\n",
    "\n",
    "win.mainloop()                               "
   ]
  },
  {
   "cell_type": "code",
   "execution_count": 57,
   "id": "63df1d11-d9e0-4177-b895-4402f44c51ac",
   "metadata": {},
   "outputs": [
    {
     "name": "stdout",
     "output_type": "stream",
     "text": [
      "Requirement already satisfied: pillow in c:\\users\\ducat\\anaconda3\\lib\\site-packages (10.2.0)\n",
      "Note: you may need to restart the kernel to use updated packages.\n"
     ]
    }
   ],
   "source": [
    "pip install pillow"
   ]
  },
  {
   "cell_type": "code",
   "execution_count": 59,
   "id": "25cceac4-86db-4224-9cd2-1ed86ece78f4",
   "metadata": {},
   "outputs": [],
   "source": [
    "from tkinter import *\n",
    "from PIL import Image,ImageTk\n",
    "\n",
    "win=Tk()                                      \n",
    "win.geometry(\"600x400\")                     \n",
    "win.configure(bg=\"yellow\") \n",
    "#print('this is python')\n",
    "\n",
    "l1=Label(win,text='this is python',font=('arial',20),bg='yellow')\n",
    "l1.pack()\n",
    "\n",
    "img=Image.open('f:/images/flag.jpg')\n",
    "img=img.resize((200,150))\n",
    "imgtk=ImageTk.PhotoImage(img,master=win)\n",
    "\n",
    "l2=Label(win,image=imgtk)\n",
    "l2.place(x=100,y=100)\n",
    "win.mainloop()   "
   ]
  },
  {
   "cell_type": "code",
   "execution_count": 90,
   "id": "4cd5457e-8d71-461b-9a56-b5b68a481188",
   "metadata": {},
   "outputs": [],
   "source": [
    "from tkinter import *\n",
    "import time\n",
    "\n",
    "win=Tk()                                      \n",
    "win.geometry(\"600x400\")                     \n",
    "win.configure(bg=\"yellow\") \n",
    "\n",
    "l1=Label(win,text=\"1st num\",font=('arial',20,'bold'),bg='yellow')\n",
    "l1.place(x=100,y=50)\n",
    "\n",
    "l2=Label(win,text=\"2nd num\",font=('arial',20,'bold'),bg='yellow')\n",
    "l2.place(x=100,y=100)\n",
    "\n",
    "l3=Label(win,text=time.strftime(\"%d-%B-%Y\"),font=('arial',20,'bold'),bg='yellow',fg='blue')\n",
    "l3.pack()\n",
    "\n",
    "e1=Entry(win,font=('arial',20,'bold'),bd=5)\n",
    "e1.place(x=250,y=50)\n",
    "\n",
    "e2=Entry(win,font=('arial',20,'bold'),bd=5)\n",
    "e2.place(x=250,y=100)\n",
    "\n",
    "b1=Button(win,font=('arial',20,'bold'),bd=5,text='Add')\n",
    "b2=Button(win,font=('arial',20,'bold'),bd=5,text='Mul')\n",
    "b1.place(x=300,y=200)\n",
    "b2.place(x=400,y=200)\n",
    "\n",
    "win.mainloop() "
   ]
  },
  {
   "cell_type": "code",
   "execution_count": 83,
   "id": "8d7ee9ea-87de-4dae-80f5-56b0464ea75a",
   "metadata": {},
   "outputs": [
    {
     "data": {
      "text/plain": [
       "'28-April-2024'"
      ]
     },
     "execution_count": 83,
     "metadata": {},
     "output_type": "execute_result"
    }
   ],
   "source": [
    "time.strftime(\"%d-%B-%Y\")"
   ]
  },
  {
   "cell_type": "markdown",
   "id": "6b8aae40-d9bd-4eb6-b435-c07845056c39",
   "metadata": {},
   "source": [
    "# How to implement action/logic in tkiner\n",
    "- ##### Event Handling is used to implement actions\n",
    "- ### Event\n",
    "- Any user interaction that causes change of state of the application is known as Event.\n",
    "- #### Types of Event\n",
    "- ##### Enter ------>when mouse is entered to a widget\n",
    "- ##### Leave ------>when mouse is exited from a widget\n",
    "- ##### Button------>when mouse button is pressed on a widget\n",
    "- ##### Focus------->when is widget gain focus from tab key\n",
    "- ##### key -------->when a key is typed\n",
    "- ##### etc.\n",
    "\n",
    "- #### Handler of Event\n",
    "- ##### It is represented by a function that contains logic\n",
    "\n",
    "- #### Source of Event\n",
    "- ##### It is a widget that causes an Event."
   ]
  },
  {
   "cell_type": "code",
   "execution_count": 108,
   "id": "db0b6446-577f-4edf-9c12-f164d4db5c46",
   "metadata": {},
   "outputs": [],
   "source": [
    "from tkinter import *\n",
    "import time\n",
    "\n",
    "def enter(event):\n",
    "    b1.configure(fg=\"blue\")\n",
    "\n",
    "def leave(event):\n",
    "    b1.configure(fg=\"black\")\n",
    "\n",
    "def addclick(event):\n",
    "    a=int(e1.get())\n",
    "    b=int(e2.get())\n",
    "    l4.configure(text=f\"Result={a+b}\")\n",
    "\n",
    "def mulclick(event):\n",
    "    a=int(e1.get())\n",
    "    b=int(e2.get())\n",
    "    l4.configure(text=f\"Result={a*b}\")\n",
    "\n",
    "def clearclick():\n",
    "    e1.delete(0,'end')\n",
    "    e2.delete(0,'end')\n",
    "    l4.configure(text=\"Result=\")\n",
    "    e1.focus()\n",
    "    \n",
    "win=Tk()                                      \n",
    "win.geometry(\"600x400\")                     \n",
    "win.configure(bg=\"yellow\") \n",
    "\n",
    "l1=Label(win,text=\"1st num\",font=('arial',20,'bold'),bg='yellow')\n",
    "l1.place(x=100,y=50)\n",
    "\n",
    "l2=Label(win,text=\"2nd num\",font=('arial',20,'bold'),bg='yellow')\n",
    "l2.place(x=100,y=100)\n",
    "\n",
    "l3=Label(win,text=time.strftime(\"%d-%B-%Y\"),font=('arial',20,'bold'),bg='yellow',fg='blue')\n",
    "l3.pack()\n",
    "\n",
    "l4=Label(win,text=\"Result=\",font=('arial',20,'bold'),bg='yellow')\n",
    "l4.place(x=100,y=300)\n",
    "\n",
    "e1=Entry(win,font=('arial',20,'bold'),bd=5)\n",
    "e1.place(x=250,y=50)\n",
    "\n",
    "e2=Entry(win,font=('arial',20,'bold'),bd=5)\n",
    "e2.place(x=250,y=100)\n",
    "\n",
    "b1=Button(win,font=('arial',20,'bold'),bd=5,text='Add')\n",
    "b2=Button(win,font=('arial',20,'bold'),bd=5,text='Mul')\n",
    "b3=Button(win,font=('arial',20,'bold'),bd=5,text='clear',command=clearclick)\n",
    "\n",
    "b1.place(x=300,y=200)\n",
    "b2.place(x=400,y=200)\n",
    "b3.place(x=500,y=200)\n",
    "\n",
    "#b1.bind(event,handler)\n",
    "b1.bind('<Button>',addclick)\n",
    "b2.bind('<Button>',mulclick)\n",
    "b1.bind('<Enter>',enter)\n",
    "b1.bind('<Leave>',leave)\n",
    "\n",
    "win.mainloop() "
   ]
  },
  {
   "cell_type": "code",
   "execution_count": 110,
   "id": "7f3aaa8b-fcf8-4559-a1d8-df388d5db370",
   "metadata": {},
   "outputs": [],
   "source": [
    "from tkinter import *\n",
    "import time\n",
    "from tkinter import messagebox\n",
    "\n",
    "def addclick(event):\n",
    "    a=int(e1.get())\n",
    "    b=int(e2.get())\n",
    "    messagebox.showinfo('Result',f'Add={a+b}')\n",
    "\n",
    "def mulclick(event):\n",
    "    a=int(e1.get())\n",
    "    b=int(e2.get())\n",
    "    messagebox.showinfo('Result',f'Mul={a*b}')\n",
    "\n",
    "def clearclick():\n",
    "    e1.delete(0,'end')\n",
    "    e2.delete(0,'end')\n",
    "    e1.focus()\n",
    "    \n",
    "win=Tk()                                      \n",
    "win.geometry(\"600x400\")                     \n",
    "win.configure(bg=\"yellow\") \n",
    "\n",
    "l1=Label(win,text=\"1st num\",font=('arial',20,'bold'),bg='yellow')\n",
    "l1.place(x=100,y=50)\n",
    "\n",
    "l2=Label(win,text=\"2nd num\",font=('arial',20,'bold'),bg='yellow')\n",
    "l2.place(x=100,y=100)\n",
    "\n",
    "l3=Label(win,text=time.strftime(\"%d-%B-%Y\"),font=('arial',20,'bold'),bg='yellow',fg='blue')\n",
    "l3.pack()\n",
    "\n",
    "e1=Entry(win,font=('arial',20,'bold'),bd=5)\n",
    "e1.place(x=250,y=50)\n",
    "\n",
    "e2=Entry(win,font=('arial',20,'bold'),bd=5)\n",
    "e2.place(x=250,y=100)\n",
    "\n",
    "b1=Button(win,font=('arial',20,'bold'),bd=5,text='Add')\n",
    "b2=Button(win,font=('arial',20,'bold'),bd=5,text='Mul')\n",
    "b3=Button(win,font=('arial',20,'bold'),bd=5,text='clear',command=clearclick)\n",
    "\n",
    "b1.place(x=300,y=200)\n",
    "b2.place(x=400,y=200)\n",
    "b3.place(x=500,y=200)\n",
    "\n",
    "b1.bind('<Button>',addclick)\n",
    "b2.bind('<Button>',mulclick)\n",
    "\n",
    "win.mainloop() "
   ]
  },
  {
   "cell_type": "code",
   "execution_count": 111,
   "id": "189d9f5b-ddc8-4235-895d-156bc4774f4d",
   "metadata": {},
   "outputs": [
    {
     "data": {
      "text/plain": [
       "((0, 0, 160), '#0000a0')"
      ]
     },
     "execution_count": 111,
     "metadata": {},
     "output_type": "execute_result"
    }
   ],
   "source": [
    "from tkinter import colorchooser\n",
    "colorchooser.askcolor()"
   ]
  },
  {
   "cell_type": "code",
   "execution_count": 113,
   "id": "dcba4be2-c392-434e-a23a-feb4c21ce630",
   "metadata": {},
   "outputs": [],
   "source": [
    "def bg():\n",
    "    from tkinter import colorchooser\n",
    "    tup=colorchooser.askcolor()\n",
    "    win.configure(bg=f'{tup[1]}') \n",
    "\n",
    "win=Tk()                                      \n",
    "win.geometry(\"600x400\")                     \n",
    "win.configure(bg=\"yellow\") \n",
    "b1=Button(win,font=('arial',20,'bold'),bd=5,text='bgcolor',command=bg)\n",
    "b1.pack()\n",
    "win.mainloop() "
   ]
  },
  {
   "cell_type": "code",
   "execution_count": 114,
   "id": "888fa8a5-5884-4e52-8876-1e3afaacfa34",
   "metadata": {},
   "outputs": [
    {
     "data": {
      "text/plain": [
       "17"
      ]
     },
     "execution_count": 114,
     "metadata": {},
     "output_type": "execute_result"
    }
   ],
   "source": [
    "eval('2+3*5')"
   ]
  },
  {
   "cell_type": "code",
   "execution_count": 117,
   "id": "308777a3-06d8-4d1b-8af4-9c46044e9fb8",
   "metadata": {},
   "outputs": [],
   "source": [
    "from tkinter import *\n",
    "from tkinter import messagebox\n",
    "\n",
    "win=Tk()                                      \n",
    "win.geometry(\"600x400\")                     \n",
    "win.configure(bg=\"yellow\") \n",
    "\n",
    "l1=Label(win,text=\"expression\",font=('arial',20),bg='yellow')\n",
    "l1.place(x=100,y=50)\n",
    "\n",
    "e1=Entry(win,font=('arial',20,'bold'),bd=5)\n",
    "e1.place(x=100,y=80)\n",
    "\n",
    "b1=Button(win,font=('arial',20,'bold'),bd=5,text='Result')\n",
    "b1.place(x=300,y=140)\n",
    "\n",
    "win.mainloop() "
   ]
  },
  {
   "cell_type": "code",
   "execution_count": null,
   "id": "0ffec0e0-a61a-4418-9de0-f725a35aa290",
   "metadata": {},
   "outputs": [],
   "source": []
  }
 ],
 "metadata": {
  "kernelspec": {
   "display_name": "Python 3 (ipykernel)",
   "language": "python",
   "name": "python3"
  },
  "language_info": {
   "codemirror_mode": {
    "name": "ipython",
    "version": 3
   },
   "file_extension": ".py",
   "mimetype": "text/x-python",
   "name": "python",
   "nbconvert_exporter": "python",
   "pygments_lexer": "ipython3",
   "version": "3.11.7"
  }
 },
 "nbformat": 4,
 "nbformat_minor": 5
}
